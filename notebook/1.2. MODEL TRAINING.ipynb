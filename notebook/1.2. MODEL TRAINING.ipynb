{
 "cells": [
  {
   "attachments": {},
   "cell_type": "markdown",
   "id": "92e48866",
   "metadata": {},
   "source": [
    "## Model Training"
   ]
  },
  {
   "attachments": {},
   "cell_type": "markdown",
   "id": "25791a74",
   "metadata": {},
   "source": [
    "#### 1.1 Import Data and Required Packages\n",
    "##### Importing Pandas, Numpy, Matplotlib, Seaborn and Warings Library."
   ]
  },
  {
   "cell_type": "code",
   "execution_count": 28,
   "id": "b080dfb2",
   "metadata": {},
   "outputs": [],
   "source": [
    "# Basic Import\n",
    "import numpy as np\n",
    "import pandas as pd\n",
    "import matplotlib.pyplot as plt \n",
    "import seaborn as sns\n",
    "\n",
    "# Modelling\n",
    "from sklearn.tree import DecisionTreeClassifier\n",
    "from sklearn.ensemble import RandomForestClassifier, GradientBoostingClassifier\n",
    "from sklearn.linear_model import LogisticRegression\n",
    "from sklearn.metrics import accuracy_score, precision_recall_fscore_support, roc_auc_score, precision_recall_curve, auc\n",
    "from sklearn.model_selection import RandomizedSearchCV\n",
    "from sklearn.model_selection import KFold, cross_val_score, GridSearchCV\n",
    "\n",
    "import xgboost as xgb # xgb.XGBClassifier\n",
    "import warnings"
   ]
  },
  {
   "attachments": {},
   "cell_type": "markdown",
   "id": "e45079ad",
   "metadata": {},
   "source": [
    "#### Import the CSV Data as Pandas DataFrame"
   ]
  },
  {
   "cell_type": "code",
   "execution_count": 8,
   "id": "e11c6255",
   "metadata": {},
   "outputs": [],
   "source": [
    "df = pd.read_csv('../artifacts/data.csv')\n",
    "df = df.loc[df.train_score == \"train\"].drop([\"rounds_left\", \"GW\", 'id', 'team_h', 'team_a', 'train_score', 'label_X', 'label_2'], axis=1)\n",
    "df['season_start_year'] = df['season_start_year'].astype(str)"
   ]
  },
  {
   "attachments": {},
   "cell_type": "markdown",
   "id": "fbd32281",
   "metadata": {},
   "source": [
    "#### Preparing X and Y variables"
   ]
  },
  {
   "cell_type": "code",
   "execution_count": 9,
   "id": "56d72fde",
   "metadata": {},
   "outputs": [],
   "source": [
    "X = df.drop(columns=['label_1'],axis=1)"
   ]
  },
  {
   "cell_type": "code",
   "execution_count": 10,
   "id": "924b7f9d",
   "metadata": {},
   "outputs": [],
   "source": [
    "y = df['label_1']"
   ]
  },
  {
   "cell_type": "code",
   "execution_count": 11,
   "id": "1e290fe3",
   "metadata": {},
   "outputs": [],
   "source": [
    "# Create Column Transformer with 3 types of transformers\n",
    "num_features = X.select_dtypes(exclude=\"object\").columns\n",
    "cat_features = X.select_dtypes(include=\"object\").columns\n",
    "\n",
    "from sklearn.preprocessing import OneHotEncoder, StandardScaler\n",
    "from sklearn.compose import ColumnTransformer\n",
    "\n",
    "numeric_transformer = StandardScaler()\n",
    "oh_transformer = OneHotEncoder()\n",
    "\n",
    "preprocessor = ColumnTransformer(\n",
    "    [\n",
    "        (\"OneHotEncoder\", oh_transformer, cat_features),\n",
    "         (\"StandardScaler\", numeric_transformer, num_features),        \n",
    "    ]\n",
    ")"
   ]
  },
  {
   "cell_type": "code",
   "execution_count": 12,
   "id": "ed5c4e99",
   "metadata": {},
   "outputs": [
    {
     "data": {
      "text/plain": [
       "((1142, 25), (286, 25))"
      ]
     },
     "execution_count": 12,
     "metadata": {},
     "output_type": "execute_result"
    }
   ],
   "source": [
    "# separate dataset into train and test\n",
    "from sklearn.model_selection import train_test_split\n",
    "X_train, X_test, y_train, y_test = train_test_split(X,y,test_size=0.2,random_state=42)\n",
    "X_train.shape, X_test.shape"
   ]
  },
  {
   "cell_type": "code",
   "execution_count": 13,
   "id": "9c68f99a",
   "metadata": {},
   "outputs": [],
   "source": [
    "X_train = preprocessor.fit_transform(X_train)\n",
    "X_test  = preprocessor.transform(X_test)"
   ]
  },
  {
   "cell_type": "code",
   "execution_count": 16,
   "id": "72459f1d",
   "metadata": {},
   "outputs": [
    {
     "data": {
      "text/plain": [
       "((1142, 76), (286, 76))"
      ]
     },
     "execution_count": 16,
     "metadata": {},
     "output_type": "execute_result"
    }
   ],
   "source": [
    "X_train.shape, X_test.shape"
   ]
  },
  {
   "attachments": {},
   "cell_type": "markdown",
   "id": "4cd80317",
   "metadata": {},
   "source": [
    "#### Create an Evaluate Function to give all metrics after model Training"
   ]
  },
  {
   "cell_type": "code",
   "execution_count": 19,
   "id": "8c247bd0",
   "metadata": {},
   "outputs": [],
   "source": [
    "from sklearn.metrics import accuracy_score, precision_recall_fscore_support, roc_auc_score, precision_recall_curve, auc\n",
    "\n",
    "import matplotlib\n",
    "import matplotlib.pyplot as plt\n",
    "\n",
    "def evaluate_model_kpi(model, X_train, y_train, X_val, y_val, threshold=0.5, model_name=None):\n",
    "    ''' Write about the meaning of each metric. '''   \n",
    "\n",
    "    if model_name == None:\n",
    "        model_name = type(model)\n",
    "    \n",
    "    # Make predictions using the model and the DataFrame\n",
    "    y_train_pred = (model.predict_proba(X_train)[:,1] >= threshold).astype(bool)\n",
    "    y_val_pred = (model.predict_proba(X_val)[:,1] >= threshold).astype(bool)\n",
    "    \n",
    "    y_train_prob = model.predict_proba(X_train)[:,1]\n",
    "    y_val_prob = model.predict_proba(X_val)[:,1]\n",
    "    \n",
    "    # Calculate accuracy\n",
    "    accuracy_train = accuracy_score(y_train, y_train_pred)\n",
    "    accuracy_val = accuracy_score(y_val, y_val_pred)\n",
    "    \n",
    "    # Calculate precision, recall, and f1 score\n",
    "    prf_train = precision_recall_fscore_support(y_train, y_train_pred, average=None)\n",
    "    prf_val = precision_recall_fscore_support(y_val, y_val_pred, average=None)\n",
    "    \n",
    "    # Calculate area under the curve\n",
    "    auc_train = roc_auc_score(y_train, y_train_prob)\n",
    "    auc_val = roc_auc_score(y_val, y_val_prob)\n",
    "    \n",
    "    # Calculate area under the precision-recall curve\n",
    "    precision_train, recall_train, thresholds_train = precision_recall_curve(y_train, y_train_pred)\n",
    "    auc_precision_recall_train = auc(recall_train, precision_train)\n",
    "    \n",
    "    precision_val, recall_val, thresholds_train = precision_recall_curve(y_val, y_val_prob)\n",
    "    auc_precision_recall_val = auc(recall_val, precision_val)\n",
    "    \n",
    "    # Store the metrics in a DataFrame\n",
    "    metrics = pd.DataFrame({\n",
    "        'Algorithm': model_name,\n",
    "         \n",
    "        'AUC-ROC Train': [auc_train],\n",
    "        'AUC-ROC Val': [auc_val],\n",
    "        'AUC-PRC Train': [auc_precision_recall_train],\n",
    "        'AUC-PRC Val': [auc_precision_recall_val],\n",
    "        \n",
    "        'Accuracy Train': [accuracy_train],\n",
    "        'Accuracy Val': [accuracy_val],\n",
    "        \n",
    "        'Precision Train: 0': [prf_train[0][0]],\n",
    "        'Precision Val: 0': [prf_val[0][0]],\n",
    "        'Precision Train: 1': [prf_train[0][1]],\n",
    "        'Precision Val: 1': [prf_val[0][1]],\n",
    "        \n",
    "        'Recall Train: 0': [prf_train[1][0]],\n",
    "        'Recall Val: 0': [prf_val[1][0]],\n",
    "        'Recall Train: 1': [prf_train[1][1]],\n",
    "        'Recall Val: 1': [prf_val[1][1]],\n",
    "        \n",
    "        'F1-score Train: 0': [prf_train[2][0]],\n",
    "        'F1-score Val: 0': [prf_val[2][0]],\n",
    "        'F1-score Train: 1': [prf_train[2][1]],\n",
    "        'F1-score Val: 1': [prf_val[2][1]],\n",
    "    })\n",
    "    \n",
    "    return metrics"
   ]
  },
  {
   "cell_type": "code",
   "execution_count": 50,
   "id": "79ccb8e7",
   "metadata": {
    "scrolled": false
   },
   "outputs": [
    {
     "name": "stdout",
     "output_type": "stream",
     "text": [
      "Decision Tree\n",
      "{'criterion': 'gini'}\n",
      "Model performance for Training set\n",
      "- AUC-ROC: 1.0000\n",
      "- AUC-PRC: 1.0000\n",
      "- Accuracy: 1.0000\n",
      "- Precision: 0: 1.0000\n",
      "- Precision: 1: 1.0000\n",
      "- Recall: 0: 1.0000\n",
      "- Recall: 1: 1.0000\n",
      "- F1-score: 0: 1.0000\n",
      "- F1-score: 1: 1.0000\n",
      "----------------------------------\n",
      "Model performance for Test set\n",
      "- AUC-ROC: 0.4876\n",
      "- AUC-PRC: 0.5180\n",
      "- Accuracy: 0.5070\n",
      "- Precision: 0: 0.5706\n",
      "- Precision: 1: 0.4037\n",
      "- Recall: 0: 0.6084\n",
      "- Recall: 1: 0.3667\n",
      "- F1-score: 0: 0.5889\n",
      "- F1-score: 1: 0.3843\n",
      "===================================\n",
      "\n",
      "\n",
      "Random Forest\n",
      "{'bootstrap': True, 'max_depth': 20}\n",
      "Model performance for Training set\n",
      "- AUC-ROC: 1.0000\n",
      "- AUC-PRC: 1.0000\n",
      "- Accuracy: 1.0000\n",
      "- Precision: 0: 1.0000\n",
      "- Precision: 1: 1.0000\n",
      "- Recall: 0: 1.0000\n",
      "- Recall: 1: 1.0000\n",
      "- F1-score: 0: 1.0000\n",
      "- F1-score: 1: 1.0000\n",
      "----------------------------------\n",
      "Model performance for Test set\n",
      "- AUC-ROC: 0.6767\n",
      "- AUC-PRC: 0.6068\n",
      "- Accuracy: 0.6399\n",
      "- Precision: 0: 0.6583\n",
      "- Precision: 1: 0.5977\n",
      "- Recall: 0: 0.7892\n",
      "- Recall: 1: 0.4333\n",
      "- F1-score: 0: 0.7178\n",
      "- F1-score: 1: 0.5024\n",
      "===================================\n",
      "\n",
      "\n",
      "Gradient Boosting\n",
      "{'learning_rate': 0.05, 'loss': 'log_loss'}\n",
      "Model performance for Training set\n",
      "- AUC-ROC: 0.8538\n",
      "- AUC-PRC: 0.7983\n",
      "- Accuracy: 0.7662\n",
      "- Precision: 0: 0.7382\n",
      "- Precision: 1: 0.8282\n",
      "- Recall: 0: 0.9050\n",
      "- Recall: 1: 0.5880\n",
      "- F1-score: 0: 0.8132\n",
      "- F1-score: 1: 0.6877\n",
      "----------------------------------\n",
      "Model performance for Test set\n",
      "- AUC-ROC: 0.6276\n",
      "- AUC-PRC: 0.5604\n",
      "- Accuracy: 0.5839\n",
      "- Precision: 0: 0.6181\n",
      "- Precision: 1: 0.5057\n",
      "- Recall: 0: 0.7410\n",
      "- Recall: 1: 0.3667\n",
      "- F1-score: 0: 0.6740\n",
      "- F1-score: 1: 0.4251\n",
      "===================================\n",
      "\n",
      "\n",
      "Logistic Regression\n",
      "{'C': 1, 'max_iter': 10000, 'penalty': 'l2'}\n",
      "Model performance for Training set\n",
      "- AUC-ROC: 0.7620\n",
      "- AUC-PRC: 0.7229\n",
      "- Accuracy: 0.6979\n",
      "- Precision: 0: 0.7060\n",
      "- Precision: 1: 0.6841\n",
      "- Recall: 0: 0.7928\n",
      "- Recall: 1: 0.5760\n",
      "- F1-score: 0: 0.7469\n",
      "- F1-score: 1: 0.6254\n",
      "----------------------------------\n",
      "Model performance for Test set\n",
      "- AUC-ROC: 0.6839\n",
      "- AUC-PRC: 0.6124\n",
      "- Accuracy: 0.6713\n",
      "- Precision: 0: 0.6895\n",
      "- Precision: 1: 0.6354\n",
      "- Recall: 0: 0.7892\n",
      "- Recall: 1: 0.5083\n",
      "- F1-score: 0: 0.7360\n",
      "- F1-score: 1: 0.5648\n",
      "===================================\n",
      "\n",
      "\n",
      "XGBoost\n",
      "{'learning_rate': 0.05, 'max_depth': 3}\n",
      "Model performance for Training set\n",
      "- AUC-ROC: 0.8251\n",
      "- AUC-PRC: 0.7739\n",
      "- Accuracy: 0.7426\n",
      "- Precision: 0: 0.7170\n",
      "- Precision: 1: 0.8029\n",
      "- Recall: 0: 0.8956\n",
      "- Recall: 1: 0.5460\n",
      "- F1-score: 0: 0.7964\n",
      "- F1-score: 1: 0.6500\n",
      "----------------------------------\n",
      "Model performance for Test set\n",
      "- AUC-ROC: 0.6585\n",
      "- AUC-PRC: 0.5927\n",
      "- Accuracy: 0.6224\n",
      "- Precision: 0: 0.6408\n",
      "- Precision: 1: 0.5750\n",
      "- Recall: 0: 0.7952\n",
      "- Recall: 1: 0.3833\n",
      "- F1-score: 0: 0.7097\n",
      "- F1-score: 1: 0.4600\n",
      "===================================\n",
      "\n",
      "\n"
     ]
    }
   ],
   "source": [
    "models = {\n",
    "    \"Decision Tree\": DecisionTreeClassifier(),\n",
    "    \"Random Forest\": RandomForestClassifier(),\n",
    "    \"Gradient Boosting\": GradientBoostingClassifier(),\n",
    "    \"Logistic Regression\": LogisticRegression(),\n",
    "    \"XGBoost\": xgb.XGBClassifier(),\n",
    "}\n",
    "\n",
    "params = {\n",
    "    \"Decision Tree\": {\n",
    "        'criterion':['log_loss', 'entropy', 'gini'],\n",
    "        # 'splitter':['best','random'],\n",
    "        # 'max_features':['sqrt','log2'],\n",
    "    },\n",
    "    \"Random Forest\":{\n",
    "        'bootstrap': [True],\n",
    "        'max_depth': [20, 40, 60],\n",
    "        #'max_features': [2, 3, 5, 10, 20],\n",
    "        #'min_samples_leaf': [3, 4, 5, 10, 20],\n",
    "        #'n_estimators': [10, 50, 100]\n",
    "    },\n",
    "    \"Gradient Boosting\":{\n",
    "        \"loss\":[\"log_loss\"],\n",
    "        \"learning_rate\": [0.01, 0.05, 0.1, 0.2, 0.5],\n",
    "        #\"min_samples_split\": np.linspace(0.1, 0.5, 12),\n",
    "        #\"min_samples_leaf\": np.linspace(0.1, 0.5, 12),\n",
    "        #\"max_depth\":[3,5,8,10,15],\n",
    "        #\"max_features\":[\"log2\", \"sqrt\"],\n",
    "        #\"criterion\": [\"friedman_mse\",  \"mae\"],\n",
    "        #\"subsample\":[0.5, 0.618, 0.8, 1.0],\n",
    "        #\"n_estimators\": [10, 15, 20]\n",
    "    },\n",
    "    \"Logistic Regression\":{\n",
    "        'C': [0.001, 0.01, 0.1, 1, 10, 100, 1000],\n",
    "        'penalty': ['l2'],\n",
    "        'max_iter': [10000],\n",
    "        #'solver': ['newton-cg', 'lbfgs', 'liblinear', 'sag', 'saga'],\n",
    "    },\n",
    "    \"XGBoost\":{\n",
    "        'max_depth': [3, 4], #, 5, 6, 7, 8],\n",
    "        'learning_rate': [0.01, 0.05], #, 0.1, 0.2, 0.5],\n",
    "        #\"gamma\":[0.5, 1], #, 2],\n",
    "        #'n_estimators': [50, 100], #, 200],\n",
    "    },            \n",
    "}\n",
    "\n",
    "model_list = []\n",
    "AUC_ROC_list = []\n",
    "best_param = {}\n",
    "\n",
    "for i in range(len(list(models))):\n",
    "    model = list(models.values())[i]\n",
    "    param = list(params.values())[i]\n",
    "\n",
    "    grid = GridSearchCV(estimator = model, param_grid = param, cv = 3, n_jobs = -1, scoring = 'roc_auc', error_score=\"raise\")\n",
    "    grid.fit(X_train, y_train)\n",
    "\n",
    "    best_param[list(models.keys())[i]] = grid.best_params_\n",
    "\n",
    "    model.set_params(**grid.best_params_)\n",
    "    model.fit(X_train, y_train)\n",
    "\n",
    "    # Make predictions\n",
    "    y_train_pred = model.predict(X_train)\n",
    "    y_test_pred = model.predict(X_test)\n",
    "    \n",
    "    # Evaluate Train and Test dataset\n",
    "    metric = evaluate_model_kpi(model=model, \n",
    "                                X_train=X_train, \n",
    "                                y_train=y_train, \n",
    "                                X_val=X_test, \n",
    "                                y_val=y_test, \n",
    "                                threshold=0.5,\n",
    "                                model_name=list(models.keys())[i]\n",
    "                                )\n",
    "    \n",
    "    print(list(models.keys())[i])\n",
    "    print(grid.best_params_)\n",
    "    model_list.append(list(models.keys())[i])\n",
    "    \n",
    "    print('Model performance for Training set')\n",
    "    print(\"- AUC-ROC: {:.4f}\".format(metric['AUC-ROC Train'][0]))\n",
    "    print(\"- AUC-PRC: {:.4f}\".format(metric['AUC-PRC Train'][0]))\n",
    "    print(\"- Accuracy: {:.4f}\".format(metric['Accuracy Train'][0]))\n",
    "    print(\"- Precision: 0: {:.4f}\".format(metric['Precision Train: 0'][0]))\n",
    "    print(\"- Precision: 1: {:.4f}\".format(metric['Precision Train: 1'][0]))\n",
    "    print(\"- Recall: 0: {:.4f}\".format(metric['Recall Train: 0'][0]))\n",
    "    print(\"- Recall: 1: {:.4f}\".format(metric['Recall Train: 1'][0]))\n",
    "    print(\"- F1-score: 0: {:.4f}\".format(metric['F1-score Train: 0'][0]))\n",
    "    print(\"- F1-score: 1: {:.4f}\".format(metric['F1-score Train: 1'][0]))\n",
    "\n",
    "    print('----------------------------------')\n",
    "    \n",
    "    print('Model performance for Test set')\n",
    "    print(\"- AUC-ROC: {:.4f}\".format(metric['AUC-ROC Val'][0]))\n",
    "    print(\"- AUC-PRC: {:.4f}\".format(metric['AUC-PRC Val'][0]))\n",
    "    print(\"- Accuracy: {:.4f}\".format(metric['Accuracy Val'][0]))\n",
    "    print(\"- Precision: 0: {:.4f}\".format(metric['Precision Val: 0'][0]))\n",
    "    print(\"- Precision: 1: {:.4f}\".format(metric['Precision Val: 1'][0]))\n",
    "    print(\"- Recall: 0: {:.4f}\".format(metric['Recall Val: 0'][0]))\n",
    "    print(\"- Recall: 1: {:.4f}\".format(metric['Recall Val: 1'][0]))\n",
    "    print(\"- F1-score: 0: {:.4f}\".format(metric['F1-score Val: 0'][0]))\n",
    "    print(\"- F1-score: 1: {:.4f}\".format(metric['F1-score Val: 1'][0]))\n",
    "    \n",
    "\n",
    "    AUC_ROC_list.append(metric['AUC-ROC Val'][0])\n",
    "    \n",
    "    print('='*35)\n",
    "    print('\\n')"
   ]
  },
  {
   "attachments": {},
   "cell_type": "markdown",
   "id": "06480b5a",
   "metadata": {},
   "source": [
    "### Results"
   ]
  },
  {
   "cell_type": "code",
   "execution_count": 49,
   "id": "e0159e5f",
   "metadata": {},
   "outputs": [
    {
     "data": {
      "text/html": [
       "<div>\n",
       "<style scoped>\n",
       "    .dataframe tbody tr th:only-of-type {\n",
       "        vertical-align: middle;\n",
       "    }\n",
       "\n",
       "    .dataframe tbody tr th {\n",
       "        vertical-align: top;\n",
       "    }\n",
       "\n",
       "    .dataframe thead th {\n",
       "        text-align: right;\n",
       "    }\n",
       "</style>\n",
       "<table border=\"1\" class=\"dataframe\">\n",
       "  <thead>\n",
       "    <tr style=\"text-align: right;\">\n",
       "      <th></th>\n",
       "      <th>Model Name</th>\n",
       "      <th>AUC_ROC</th>\n",
       "    </tr>\n",
       "  </thead>\n",
       "  <tbody>\n",
       "    <tr>\n",
       "      <th>3</th>\n",
       "      <td>Logistic Regression</td>\n",
       "      <td>0.683936</td>\n",
       "    </tr>\n",
       "    <tr>\n",
       "      <th>4</th>\n",
       "      <td>XGBoost</td>\n",
       "      <td>0.658534</td>\n",
       "    </tr>\n",
       "    <tr>\n",
       "      <th>1</th>\n",
       "      <td>Random Forest</td>\n",
       "      <td>0.641089</td>\n",
       "    </tr>\n",
       "    <tr>\n",
       "      <th>2</th>\n",
       "      <td>Gradient Boosting</td>\n",
       "      <td>0.627887</td>\n",
       "    </tr>\n",
       "    <tr>\n",
       "      <th>0</th>\n",
       "      <td>Decision Tree</td>\n",
       "      <td>0.494729</td>\n",
       "    </tr>\n",
       "  </tbody>\n",
       "</table>\n",
       "</div>"
      ],
      "text/plain": [
       "            Model Name   AUC_ROC\n",
       "3  Logistic Regression  0.683936\n",
       "4              XGBoost  0.658534\n",
       "1        Random Forest  0.641089\n",
       "2    Gradient Boosting  0.627887\n",
       "0        Decision Tree  0.494729"
      ]
     },
     "execution_count": 49,
     "metadata": {},
     "output_type": "execute_result"
    }
   ],
   "source": [
    "pd.DataFrame(list(zip(model_list, AUC_ROC_list)), columns=['Model Name', 'AUC_ROC']).sort_values(by=[\"AUC_ROC\"],ascending=False)"
   ]
  },
  {
   "attachments": {},
   "cell_type": "markdown",
   "id": "357a7c1c",
   "metadata": {},
   "source": [
    "## Logistic Regression"
   ]
  },
  {
   "cell_type": "code",
   "execution_count": 62,
   "id": "9a6ad559",
   "metadata": {},
   "outputs": [
    {
     "name": "stdout",
     "output_type": "stream",
     "text": [
      "Area under the curve of the model is 0.68\n"
     ]
    }
   ],
   "source": [
    "best_model = LogisticRegression(**best_param['Logistic Regression'])\n",
    "best_model = best_model.fit(X_train, y_train)\n",
    "y_pred = best_model.predict_proba(X_test)[:,1]\n",
    "score = roc_auc_score(y_test, y_pred)\n",
    "print(\"Area under the curve of the model is %.2f\" %score)"
   ]
  },
  {
   "attachments": {},
   "cell_type": "markdown",
   "id": "1d31453e",
   "metadata": {},
   "source": [
    "## Plot Confusion-matrix"
   ]
  },
  {
   "cell_type": "code",
   "execution_count": 69,
   "id": "eb557b0a",
   "metadata": {},
   "outputs": [
    {
     "data": {
      "text/plain": [
       "<sklearn.metrics._plot.confusion_matrix.ConfusionMatrixDisplay at 0x1e2134144f0>"
      ]
     },
     "execution_count": 69,
     "metadata": {},
     "output_type": "execute_result"
    },
    {
     "data": {
      "image/png": "[encoded data removed]",
      "text/plain": [
       "<Figure size 640x480 with 2 Axes>"
      ]
     },
     "metadata": {},
     "output_type": "display_data"
    }
   ],
   "source": [
    "from sklearn.metrics import confusion_matrix, ConfusionMatrixDisplay\n",
    "\n",
    "cm = confusion_matrix(y_test, y_pred, labels=lin_model.classes_)\n",
    "disp = ConfusionMatrixDisplay(confusion_matrix=cm,\n",
    "                               display_labels=lin_model.classes_)\n",
    "disp.plot()"
   ]
  },
  {
   "cell_type": "code",
   "execution_count": null,
   "id": "3acf1fbc",
   "metadata": {},
   "outputs": [],
   "source": []
  }
 ],
 "metadata": {
  "kernelspec": {
   "display_name": "Python 3 (ipykernel)",
   "language": "python",
   "name": "python3"
  },
  "language_info": {
   "codemirror_mode": {
    "name": "ipython",
    "version": 3
   },
   "file_extension": ".py",
   "mimetype": "text/x-python",
   "name": "python",
   "nbconvert_exporter": "python",
   "pygments_lexer": "ipython3",
   "version": "3.9.16"
  }
 },
 "nbformat": 4,
 "nbformat_minor": 5
}
