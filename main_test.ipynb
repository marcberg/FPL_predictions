{
 "cells": [
  {
   "cell_type": "code",
   "execution_count": null,
   "metadata": {},
   "outputs": [],
   "source": [
    "import os\n",
    "import numpy as np \n",
    "import pandas as pd \n",
    "import joblib\n",
    "\n",
    "import warnings\n",
    "warnings.filterwarnings(\"ignore\", category=UserWarning, module=\"_distutils_hack\")"
   ]
  },
  {
   "cell_type": "code",
   "execution_count": null,
   "metadata": {},
   "outputs": [],
   "source": [
    "from src.components.data.api.game_functions import get_game_list\n",
    "from src.components.data.api.player_functions import get_player_details, get_player_info, get_player_hist, get_player_id, get_player_name\n",
    "from src.components.data.api.round_functions import get_round_info\n",
    "\n",
    "from src.components.data.fetch_data import fetch_data"
   ]
  },
  {
   "cell_type": "code",
   "execution_count": null,
   "metadata": {},
   "outputs": [],
   "source": [
    "# 2023-06-26. New season schedule been updated and previous season history has not been saved yet. change code in fetch_data when its back.\n",
    "# 2023-07-11. Skip previous season if there csv-file is not created yet.\n",
    "\n",
    "fetch_data(get_game_list, id_list = [\"id\",\"team_h\",\"team_a\",\"season_start_year\"])\n",
    "fetch_data(get_player_details, id_list = [\"season_start_year\",\"element\",\"fixture\"])\n",
    "fetch_data(get_player_hist, id_list = [\"season_name\",\"element_code\"], season_specific=False)\n",
    "fetch_data(get_player_info, id_list = [\"season_start_year\", \"id\"])\n",
    "fetch_data(get_player_id, id_list = [\"id\"], season_specific=False)\n",
    "fetch_data(get_player_name, id_list = [\"id\"], season_specific=False)\n",
    "fetch_data(get_round_info, id_list = [\"id\", \"season_start_year\"])"
   ]
  },
  {
   "cell_type": "code",
   "execution_count": null,
   "metadata": {},
   "outputs": [],
   "source": [
    "from src.components.data.transform_data import create_data\n",
    "\n",
    "create_data()"
   ]
  },
  {
   "cell_type": "code",
   "execution_count": null,
   "metadata": {},
   "outputs": [],
   "source": [
    "from src.components.ml.data_ingest_transform_train import DataIngest, DataTranformTrain"
   ]
  },
  {
   "cell_type": "code",
   "execution_count": null,
   "metadata": {},
   "outputs": [],
   "source": [
    "data_ingest = DataIngest()  \n",
    "data_ingest.create_train_and_test()  "
   ]
  },
  {
   "cell_type": "code",
   "execution_count": null,
   "metadata": {},
   "outputs": [],
   "source": [
    "from sklearn.tree import DecisionTreeClassifier\n",
    "from sklearn.ensemble import RandomForestClassifier, GradientBoostingClassifier\n",
    "from sklearn.linear_model import LogisticRegression\n",
    "import xgboost as xgb \n",
    "\n",
    "models = {\n",
    "    \"Logistic Regression\": LogisticRegression(),\n",
    "    \"Decision Tree\": DecisionTreeClassifier(),\n",
    "    \"Random Forest\": RandomForestClassifier(),\n",
    "    \"Gradient Boosting\": GradientBoostingClassifier(),\n",
    "    \"XGBoost\": xgb.XGBClassifier(),\n",
    "}\n",
    "\n",
    "params = {\n",
    "    \"Logistic Regression\":{\n",
    "        'model__C': [0.001, 0.01, 0.1, 1, 10], \n",
    "        'model__penalty': ['l1', 'l2'],  \n",
    "        'model__max_iter': [100, 1000, 10000],  \n",
    "        'model__solver': ['liblinear', 'saga']  \n",
    "    },\n",
    "    \"Decision Tree\": {\n",
    "        'model__criterion': ['entropy', 'gini'], \n",
    "        'model__max_depth': [None, 2, 3, 4, 5, 6], \n",
    "        'model__min_samples_leaf': [1, 2, 5, 10, 20],  \n",
    "        'model__min_samples_split': [2, 5, 10],  \n",
    "    },\n",
    "    \"Random Forest\":{\n",
    "        'model__bootstrap': [True],\n",
    "        'model__max_features': ['sqrt', 'log2', None],\n",
    "        #'model__max_features': [10, 20, 50],\n",
    "        'model__max_depth': [2, 3, 4, 6],\n",
    "        'model__min_samples_leaf': [1, 2, 4, 5, 10, 20, 50],\n",
    "        'model__n_estimators': [10, 50, 100, 500, 1000],\n",
    "    },\n",
    "    \"Gradient Boosting\":{\n",
    "        \"model__loss\":[\"log_loss\", \"exponential\"],\n",
    "        'model__learning_rate': [0.001, 0.005, 0.01, 0.015, 0.03, 0.06],\n",
    "        'model__min_samples_leaf': [1, 2, 5, 10, 20, 50],\n",
    "        'model__max_depth': [2, 3, 4, 6],\n",
    "        'model__n_estimators': [10, 50, 100],\n",
    "    },\n",
    "    \"XGBoost\":{\n",
    "        'model__max_depth': [2, 3, 4, 6],\n",
    "        'model__learning_rate': [0.001, 0.005, 0.01, 0.015, 0.03, 0.06],\n",
    "        'model__n_estimators': [10, 50, 100, 500],\n",
    "        'model__min_child_weight': [3, 5, 10, 50],\n",
    "        'model__gamma': [0, 0.1, 1, 2],\n",
    "        'model__reg_lambda': [0, 0.1, 1, 10]\n",
    "    },   \n",
    "}"
   ]
  },
  {
   "cell_type": "code",
   "execution_count": null,
   "metadata": {},
   "outputs": [],
   "source": [
    "# USED FOR TESTING FAST\n",
    "\n",
    "# from sklearn.tree import DecisionTreeClassifier\n",
    "# from sklearn.ensemble import RandomForestClassifier, GradientBoostingClassifier\n",
    "# from sklearn.linear_model import LogisticRegression\n",
    "# import xgboost as xgb \n",
    "# \n",
    "# models = {\n",
    "#     \"Logistic Regression\": LogisticRegression(),\n",
    "#     #\"Decision Tree\": DecisionTreeClassifier(),\n",
    "# }\n",
    "# \n",
    "# params = {\n",
    "#     \"Logistic Regression\":{\n",
    "#         'model__C': [0.001, 0.01, 0.1, 1, 10], \n",
    "#         'model__penalty': ['l1', 'l2'],  \n",
    "#         'model__max_iter': [100, 1000, 10000],  \n",
    "#         'model__solver': ['liblinear', 'saga']  \n",
    "#     },\n",
    "#     #\"Decision Tree\": {\n",
    "#     #    'model__criterion': ['entropy', 'gini'], \n",
    "#     #    'model__max_depth': [None, 2, 3, 4, 5, 6], \n",
    "#     #    'model__min_samples_leaf': [1, 2, 5, 10, 20],  \n",
    "#     #    'model__min_samples_split': [2, 5, 10],  \n",
    "#     #},\n",
    "# }"
   ]
  },
  {
   "cell_type": "code",
   "execution_count": null,
   "metadata": {},
   "outputs": [],
   "source": [
    "algo_1 = DataTranformTrain(label = 'label_1')\n",
    "algo_best_model_1, all_algo_metrics_1 = algo_1.grid_search(models=models, params=params, save_to_mlflow=False)"
   ]
  },
  {
   "cell_type": "code",
   "execution_count": null,
   "metadata": {},
   "outputs": [],
   "source": [
    "algo_X = DataTranformTrain(label = 'label_X')\n",
    "algo_best_model_X, all_algo_metrics_X = algo_X.grid_search(models=models, params=params, save_to_mlflow=False)"
   ]
  },
  {
   "cell_type": "code",
   "execution_count": null,
   "metadata": {},
   "outputs": [],
   "source": [
    "algo_2 = DataTranformTrain(label = 'label_2')\n",
    "algo_best_model_2, all_algo_metrics_2 = algo_2.grid_search(models=models, params=params, save_to_mlflow=False)"
   ]
  },
  {
   "cell_type": "code",
   "execution_count": null,
   "metadata": {},
   "outputs": [],
   "source": [
    "concat_matrics = pd.concat([all_algo_metrics_1, all_algo_metrics_X, all_algo_metrics_2])\n",
    "calculate_total_metrics = concat_matrics.groupby(\"Algorithm\", as_index=False)[\"AUC-ROC Val\"].sum()\n",
    "rearrange_metrics = calculate_total_metrics.sort_values(\"AUC-ROC Val\", ascending=False)[\"Algorithm\"].reset_index(drop=True)\n",
    "best_total_algorithm = rearrange_metrics[0]\n",
    "print(best_total_algorithm)"
   ]
  },
  {
   "cell_type": "code",
   "execution_count": null,
   "metadata": {},
   "outputs": [],
   "source": [
    "best_total_algorithm_1 = joblib.load('artifacts/ml_results/label_1/{0}.pkl'.format(best_total_algorithm))\n",
    "best_total_algorithm_X = joblib.load('artifacts/ml_results/label_X/{0}.pkl'.format(best_total_algorithm))\n",
    "best_total_algorithm_2 = joblib.load('artifacts/ml_results/label_2/{0}.pkl'.format(best_total_algorithm))"
   ]
  },
  {
   "cell_type": "code",
   "execution_count": null,
   "metadata": {},
   "outputs": [],
   "source": [
    "from src.components.ml.score import predict_result"
   ]
  },
  {
   "cell_type": "code",
   "execution_count": null,
   "metadata": {},
   "outputs": [],
   "source": [
    "predictions = predict_result(best_total_algorithm_1, best_total_algorithm_X, best_total_algorithm_2, predict_data='validation')\n",
    "predictions.to_csv('artifacts/result_predictions.csv',index=False,header=True)"
   ]
  },
  {
   "cell_type": "code",
   "execution_count": null,
   "metadata": {},
   "outputs": [],
   "source": []
  }
 ],
 "metadata": {
  "kernelspec": {
   "display_name": "Python 3",
   "language": "python",
   "name": "python3"
  },
  "language_info": {
   "codemirror_mode": {
    "name": "ipython",
    "version": 3
   },
   "file_extension": ".py",
   "mimetype": "text/x-python",
   "name": "python",
   "nbconvert_exporter": "python",
   "pygments_lexer": "ipython3",
   "version": "3.10.0"
  },
  "orig_nbformat": 4
 },
 "nbformat": 4,
 "nbformat_minor": 2
}
