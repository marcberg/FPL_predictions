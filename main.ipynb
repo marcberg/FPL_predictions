{
 "cells": [
  {
   "cell_type": "code",
   "execution_count": 1,
   "metadata": {},
   "outputs": [
    {
     "data": {
      "text/plain": [
       "'c:\\\\Users\\\\Marcus Bergdahl\\\\data_science_projects\\\\FPL_predictions'"
      ]
     },
     "execution_count": 1,
     "metadata": {},
     "output_type": "execute_result"
    }
   ],
   "source": [
    "import os\n",
    "import numpy as np \n",
    "import pandas as pd \n",
    "os.getcwd()"
   ]
  },
  {
   "cell_type": "code",
   "execution_count": null,
   "metadata": {},
   "outputs": [],
   "source": [
    "from src.components.data.api.game_functions import get_game_list\n",
    "from src.components.data.api.player_functions import get_player_details, get_player_info, get_player_hist, get_player_id, get_player_name\n",
    "from src.components.data.api.round_functions import get_round_info\n",
    "\n",
    "from src.components.data.fetch_data import fetch_data"
   ]
  },
  {
   "cell_type": "code",
   "execution_count": null,
   "metadata": {},
   "outputs": [],
   "source": [
    "# 2023-06-26. New season schedule been updated and previous season history has not been saved yet. change code in fetch_data when its back.\n",
    "# 2023-07-11. Skip previous season if there csv-file is not created yet.\n",
    "\n",
    "fetch_data(get_game_list)\n",
    "fetch_data(get_player_details)\n",
    "fetch_data(get_player_hist, season_specific=False)\n",
    "fetch_data(get_player_info)\n",
    "fetch_data(get_player_id, season_specific=False)\n",
    "fetch_data(get_player_name, season_specific=False)\n",
    "fetch_data(get_round_info)"
   ]
  },
  {
   "cell_type": "code",
   "execution_count": null,
   "metadata": {},
   "outputs": [],
   "source": [
    "from src.components.data.transform_data import create_data\n",
    "\n",
    "create_data()"
   ]
  },
  {
   "cell_type": "code",
   "execution_count": 2,
   "metadata": {},
   "outputs": [],
   "source": [
    "from src.components.ml.data_ingest_transform_train import DataIngest, DataTranformTrain"
   ]
  },
  {
   "cell_type": "code",
   "execution_count": null,
   "metadata": {},
   "outputs": [],
   "source": [
    "data_ingest = DataIngest()  \n",
    "data_ingest.create_train_and_test()  "
   ]
  },
  {
   "cell_type": "code",
   "execution_count": null,
   "metadata": {},
   "outputs": [],
   "source": [
    "algo_1 = DataTranformTrain(label = 'label_1', drop_labels_list = ['label_1', 'label_X', 'label_2'])\n",
    "algo_best_model_metric_1, algo_best_param_1, algo_best_model_1 = algo_1.grid_search()\n",
    "algo_best_model_metric_1"
   ]
  },
  {
   "cell_type": "code",
   "execution_count": 3,
   "metadata": {},
   "outputs": [
    {
     "name": "stderr",
     "output_type": "stream",
     "text": [
      "c:\\Users\\Marcus Bergdahl\\data_science_projects\\FPL_predictions\\venv\\lib\\site-packages\\sklearn\\linear_model\\_logistic.py:1173: FutureWarning: `penalty='none'`has been deprecated in 1.2 and will be removed in 1.4. To keep the past behaviour, set `penalty=None`.\n",
      "  warnings.warn(\n",
      "c:\\Users\\Marcus Bergdahl\\data_science_projects\\FPL_predictions\\venv\\lib\\site-packages\\sklearn\\linear_model\\_logistic.py:458: ConvergenceWarning: lbfgs failed to converge (status=1):\n",
      "STOP: TOTAL NO. of ITERATIONS REACHED LIMIT.\n",
      "\n",
      "Increase the number of iterations (max_iter) or scale the data as shown in:\n",
      "    https://scikit-learn.org/stable/modules/preprocessing.html\n",
      "Please also refer to the documentation for alternative solver options:\n",
      "    https://scikit-learn.org/stable/modules/linear_model.html#logistic-regression\n",
      "  n_iter_i = _check_optimize_result(\n",
      "c:\\Users\\Marcus Bergdahl\\data_science_projects\\FPL_predictions\\venv\\lib\\site-packages\\sklearn\\linear_model\\_logistic.py:1173: FutureWarning: `penalty='none'`has been deprecated in 1.2 and will be removed in 1.4. To keep the past behaviour, set `penalty=None`.\n",
      "  warnings.warn(\n",
      "c:\\Users\\Marcus Bergdahl\\data_science_projects\\FPL_predictions\\venv\\lib\\site-packages\\sklearn\\linear_model\\_logistic.py:458: ConvergenceWarning: lbfgs failed to converge (status=1):\n",
      "STOP: TOTAL NO. of ITERATIONS REACHED LIMIT.\n",
      "\n",
      "Increase the number of iterations (max_iter) or scale the data as shown in:\n",
      "    https://scikit-learn.org/stable/modules/preprocessing.html\n",
      "Please also refer to the documentation for alternative solver options:\n",
      "    https://scikit-learn.org/stable/modules/linear_model.html#logistic-regression\n",
      "  n_iter_i = _check_optimize_result(\n"
     ]
    },
    {
     "data": {
      "text/html": [
       "<div>\n",
       "<style scoped>\n",
       "    .dataframe tbody tr th:only-of-type {\n",
       "        vertical-align: middle;\n",
       "    }\n",
       "\n",
       "    .dataframe tbody tr th {\n",
       "        vertical-align: top;\n",
       "    }\n",
       "\n",
       "    .dataframe thead th {\n",
       "        text-align: right;\n",
       "    }\n",
       "</style>\n",
       "<table border=\"1\" class=\"dataframe\">\n",
       "  <thead>\n",
       "    <tr style=\"text-align: right;\">\n",
       "      <th></th>\n",
       "      <th>Model Name</th>\n",
       "      <th>AUC_ROC</th>\n",
       "    </tr>\n",
       "  </thead>\n",
       "  <tbody>\n",
       "    <tr>\n",
       "      <th>0</th>\n",
       "      <td>XGBoost</td>\n",
       "      <td>0.495387</td>\n",
       "    </tr>\n",
       "    <tr>\n",
       "      <th>1</th>\n",
       "      <td>Random Forest</td>\n",
       "      <td>0.490253</td>\n",
       "    </tr>\n",
       "    <tr>\n",
       "      <th>2</th>\n",
       "      <td>Decision Tree</td>\n",
       "      <td>0.467251</td>\n",
       "    </tr>\n",
       "    <tr>\n",
       "      <th>3</th>\n",
       "      <td>Logistic Regression</td>\n",
       "      <td>0.457700</td>\n",
       "    </tr>\n",
       "    <tr>\n",
       "      <th>4</th>\n",
       "      <td>Gradient Boosting</td>\n",
       "      <td>0.456010</td>\n",
       "    </tr>\n",
       "  </tbody>\n",
       "</table>\n",
       "</div>"
      ],
      "text/plain": [
       "            Model Name   AUC_ROC\n",
       "0              XGBoost  0.495387\n",
       "1        Random Forest  0.490253\n",
       "2        Decision Tree  0.467251\n",
       "3  Logistic Regression  0.457700\n",
       "4    Gradient Boosting  0.456010"
      ]
     },
     "execution_count": 3,
     "metadata": {},
     "output_type": "execute_result"
    }
   ],
   "source": [
    "algo_X = DataTranformTrain(label = 'label_X', drop_labels_list = ['label_1', 'label_X', 'label_2'])\n",
    "algo_best_model_metric_X, algo_best_param_X, algo_best_model_X = algo_X.grid_search()\n",
    "algo_best_model_metric_X"
   ]
  },
  {
   "cell_type": "code",
   "execution_count": null,
   "metadata": {},
   "outputs": [],
   "source": [
    "algo_2 = DataTranformTrain(label = 'label_2', drop_labels_list = ['label_1', 'label_X', 'label_2'])\n",
    "algo_best_model_metric_2, algo_best_param_2, algo_best_model_2 = algo_2.grid_search()\n",
    "algo_best_model_metric_2"
   ]
  },
  {
   "cell_type": "code",
   "execution_count": null,
   "metadata": {},
   "outputs": [],
   "source": [
    "from src.components.ml.score import extract_best_model, predict_result\n",
    "\n",
    "best_model_1 = extract_best_model(algo_best_model_1, algo_best_model_metric_1)\n",
    "best_model_X = extract_best_model(algo_best_model_X, algo_best_model_metric_X)\n",
    "best_model_2 = extract_best_model(algo_best_model_2, algo_best_model_metric_2)\n",
    "\n",
    "predictions = predict_result(best_model_1, best_model_X, best_model_2)\n",
    "predictions.to_csv('artifacts/result_predictions.csv',index=False,header=True)"
   ]
  },
  {
   "cell_type": "code",
   "execution_count": null,
   "metadata": {},
   "outputs": [],
   "source": []
  }
 ],
 "metadata": {
  "kernelspec": {
   "display_name": "Python 3",
   "language": "python",
   "name": "python3"
  },
  "language_info": {
   "codemirror_mode": {
    "name": "ipython",
    "version": 3
   },
   "file_extension": ".py",
   "mimetype": "text/x-python",
   "name": "python",
   "nbconvert_exporter": "python",
   "pygments_lexer": "ipython3",
   "version": "3.10.0"
  },
  "orig_nbformat": 4
 },
 "nbformat": 4,
 "nbformat_minor": 2
}
