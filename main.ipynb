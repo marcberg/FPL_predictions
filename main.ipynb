{
 "cells": [
  {
   "cell_type": "code",
   "execution_count": 1,
   "metadata": {},
   "outputs": [
    {
     "data": {
      "text/plain": [
       "'c:\\\\Users\\\\Marcus Bergdahl\\\\data_science_projects\\\\FPL_predictions'"
      ]
     },
     "execution_count": 1,
     "metadata": {},
     "output_type": "execute_result"
    }
   ],
   "source": [
    "import os\n",
    "import numpy as np \n",
    "import pandas as pd \n",
    "os.getcwd()"
   ]
  },
  {
   "cell_type": "code",
   "execution_count": 2,
   "metadata": {},
   "outputs": [],
   "source": [
    "from src.components.data.api.game_functions import get_game_list\n",
    "from src.components.data.api.player_functions import get_player_details, get_player_info, get_player_hist, get_player_id, get_player_name\n",
    "from src.components.data.api.round_functions import get_round_info\n",
    "\n",
    "from src.components.data.fetch_data import fetch_data"
   ]
  },
  {
   "attachments": {},
   "cell_type": "markdown",
   "metadata": {},
   "source": [
    "fetch_data(get_game_list)\n",
    "fetch_data(get_player_details)\n",
    "fetch_data(get_player_hist, season_specific=False)\n",
    "fetch_data(get_player_info)\n",
    "fetch_data(get_player_id, season_specific=False)\n",
    "fetch_data(get_player_name, season_specific=False)\n",
    "fetch_data(get_round_info)"
   ]
  },
  {
   "attachments": {},
   "cell_type": "markdown",
   "metadata": {},
   "source": [
    "from src.components.data.transform_data import create_data\n",
    "\n",
    "create_data()"
   ]
  },
  {
   "cell_type": "code",
   "execution_count": 3,
   "metadata": {},
   "outputs": [],
   "source": [
    "from src.components.ml.data_ingest_transform_train import DataConfig, DataIngest, DataTranformTrain"
   ]
  },
  {
   "attachments": {},
   "cell_type": "markdown",
   "metadata": {},
   "source": [
    "data_ingest = DataIngest()  \n",
    "data_ingest.create_train_and_test()  "
   ]
  },
  {
   "cell_type": "code",
   "execution_count": 4,
   "metadata": {},
   "outputs": [
    {
     "name": "stderr",
     "output_type": "stream",
     "text": [
      "c:\\Users\\Marcus Bergdahl\\data_science_projects\\FPL_predictions\\venv\\lib\\site-packages\\_distutils_hack\\__init__.py:33: UserWarning: Setuptools is replacing distutils.\n",
      "  warnings.warn(\"Setuptools is replacing distutils.\")\n"
     ]
    }
   ],
   "source": [
    "algo_1 = DataTranformTrain(label = 'label_1', drop_labels_list = ['label_1', 'label_X', 'label_2'])\n",
    "algo_best_model_metric_1, algo_best_param_1, algo_best_model_1 = algo_1.grid_search()\n",
    "algo_best_model_metric_1"
   ]
  },
  {
   "cell_type": "code",
   "execution_count": null,
   "metadata": {},
   "outputs": [],
   "source": [
    "algo_X = DataTranformTrain(label = 'label_X', drop_labels_list = ['label_1', 'label_X', 'label_2'])\n",
    "algo_best_model_metric_X, algo_best_param_X, algo_best_model_X = algo_X.grid_search()\n",
    "algo_best_model_metric_X"
   ]
  },
  {
   "cell_type": "code",
   "execution_count": null,
   "metadata": {},
   "outputs": [],
   "source": [
    "algo_2 = DataTranformTrain(label = 'label_2', drop_labels_list = ['label_1', 'label_X', 'label_2'])\n",
    "algo_best_model_metric_2, algo_best_param_2, algo_best_model_2 = algo_2.grid_search()\n",
    "algo_best_model_metric_2"
   ]
  },
  {
   "cell_type": "code",
   "execution_count": null,
   "metadata": {},
   "outputs": [],
   "source": [
    "from src.components.ml.score import extract_best_model, predict_result\n",
    "\n",
    "best_model_1 = extract_best_model(algo_best_model_1, algo_best_model_metric_1)\n",
    "best_model_X = extract_best_model(algo_best_model_X, algo_best_model_metric_X)\n",
    "best_model_2 = extract_best_model(algo_best_model_2, algo_best_model_metric_2)\n",
    "\n",
    "predictions = predict_result(best_model_1, best_model_X, best_model_2)\n",
    "predictions.to_csv('artifacts/result_predictions.csv',index=False,header=True)"
   ]
  },
  {
   "cell_type": "code",
   "execution_count": null,
   "metadata": {},
   "outputs": [],
   "source": []
  }
 ],
 "metadata": {
  "kernelspec": {
   "display_name": "Python 3",
   "language": "python",
   "name": "python3"
  },
  "language_info": {
   "codemirror_mode": {
    "name": "ipython",
    "version": 3
   },
   "file_extension": ".py",
   "mimetype": "text/x-python",
   "name": "python",
   "nbconvert_exporter": "python",
   "pygments_lexer": "ipython3",
   "version": "3.10.0"
  },
  "orig_nbformat": 4
 },
 "nbformat": 4,
 "nbformat_minor": 2
}
